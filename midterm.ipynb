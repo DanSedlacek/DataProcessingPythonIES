{
 "cells": [
  {
   "cell_type": "code",
   "execution_count": 69,
   "metadata": {},
   "outputs": [
    {
     "name": "stdout",
     "output_type": "stream",
     "text": [
      "Hello world! 😉\n"
     ]
    }
   ],
   "source": [
    "# \"First commands executed should always be the Hello world program!\" Lecture 1\n",
    "a = chr(128521)\n",
    "print('Hello world!',a)\n",
    "\n",
    "import os\n",
    "import keyword\n",
    "from collections import defaultdict\n",
    "import csv\n",
    "import sys\n",
    "import seaborn as sns\n",
    "import pandas as pd\n",
    "import matplotlib.pyplot as plt\n",
    "import scipy as stats\n",
    "import numpy as np\n",
    "import math\n",
    "import zipfile\n",
    "import datetime\n",
    "import random\n"
   ]
  },
  {
   "cell_type": "code",
   "execution_count": null,
   "metadata": {},
   "outputs": [],
   "source": [
    "# Get the current working directory\n",
    "current_directory = os.getcwd()\n",
    "print(\"Current Working Directory:\", current_directory)\n",
    "\n",
    "# Change the working directory to a new path\n",
    "new_directory = \"C:/Users/arion/Documents/DataProcessing/Midterm\"\n",
    "os.chdir(new_directory)\n",
    "print(\"New Working Directory:\", new_directory)"
   ]
  },
  {
   "cell_type": "code",
   "execution_count": 14,
   "metadata": {},
   "outputs": [],
   "source": [
    "df_JPM = pd.read_csv('./JPM.csv')\n",
    "df_GPC = pd.read_csv('./GPC.csv')\n",
    "df_KDP = pd.read_csv('./KDP.csv')\n",
    "df_KMX = pd.read_csv('./KMX.csv')"
   ]
  },
  {
   "cell_type": "code",
   "execution_count": 36,
   "metadata": {},
   "outputs": [],
   "source": [
    "# Creating date frames\n",
    "JPM = pd.DataFrame(df_JPM)\n",
    "GPC = pd.DataFrame(df_GPC)\n",
    "KDP = pd.DataFrame(df_KDP)\n",
    "KMX = pd.DataFrame(df_KMX)"
   ]
  },
  {
   "cell_type": "code",
   "execution_count": 42,
   "metadata": {},
   "outputs": [
    {
     "data": {
      "text/html": [
       "<div>\n",
       "<style scoped>\n",
       "    .dataframe tbody tr th:only-of-type {\n",
       "        vertical-align: middle;\n",
       "    }\n",
       "\n",
       "    .dataframe tbody tr th {\n",
       "        vertical-align: top;\n",
       "    }\n",
       "\n",
       "    .dataframe thead th {\n",
       "        text-align: right;\n",
       "    }\n",
       "</style>\n",
       "<table border=\"1\" class=\"dataframe\">\n",
       "  <thead>\n",
       "    <tr style=\"text-align: right;\">\n",
       "      <th></th>\n",
       "      <th>Date</th>\n",
       "      <th>High</th>\n",
       "      <th>Low</th>\n",
       "      <th>Open</th>\n",
       "      <th>Close</th>\n",
       "      <th>Volume</th>\n",
       "      <th>Adj Close</th>\n",
       "    </tr>\n",
       "  </thead>\n",
       "  <tbody>\n",
       "    <tr>\n",
       "      <th>0</th>\n",
       "      <td>2017-11-13</td>\n",
       "      <td>98.050003</td>\n",
       "      <td>96.620003</td>\n",
       "      <td>96.690002</td>\n",
       "      <td>97.860001</td>\n",
       "      <td>9303100.0</td>\n",
       "      <td>86.807426</td>\n",
       "    </tr>\n",
       "    <tr>\n",
       "      <th>1</th>\n",
       "      <td>2017-11-14</td>\n",
       "      <td>97.779999</td>\n",
       "      <td>96.849998</td>\n",
       "      <td>97.339996</td>\n",
       "      <td>97.269997</td>\n",
       "      <td>11043800.0</td>\n",
       "      <td>86.284058</td>\n",
       "    </tr>\n",
       "    <tr>\n",
       "      <th>2</th>\n",
       "      <td>2017-11-15</td>\n",
       "      <td>98.739998</td>\n",
       "      <td>95.949997</td>\n",
       "      <td>96.389999</td>\n",
       "      <td>98.190002</td>\n",
       "      <td>15384100.0</td>\n",
       "      <td>87.100151</td>\n",
       "    </tr>\n",
       "    <tr>\n",
       "      <th>3</th>\n",
       "      <td>2017-11-16</td>\n",
       "      <td>99.059998</td>\n",
       "      <td>98.309998</td>\n",
       "      <td>98.529999</td>\n",
       "      <td>98.470001</td>\n",
       "      <td>9808000.0</td>\n",
       "      <td>87.348534</td>\n",
       "    </tr>\n",
       "    <tr>\n",
       "      <th>4</th>\n",
       "      <td>2017-11-17</td>\n",
       "      <td>98.410004</td>\n",
       "      <td>97.570000</td>\n",
       "      <td>97.820000</td>\n",
       "      <td>98.139999</td>\n",
       "      <td>9017900.0</td>\n",
       "      <td>87.055801</td>\n",
       "    </tr>\n",
       "    <tr>\n",
       "      <th>...</th>\n",
       "      <td>...</td>\n",
       "      <td>...</td>\n",
       "      <td>...</td>\n",
       "      <td>...</td>\n",
       "      <td>...</td>\n",
       "      <td>...</td>\n",
       "      <td>...</td>\n",
       "    </tr>\n",
       "    <tr>\n",
       "      <th>1254</th>\n",
       "      <td>2022-11-07</td>\n",
       "      <td>132.289993</td>\n",
       "      <td>130.479996</td>\n",
       "      <td>131.000000</td>\n",
       "      <td>131.369995</td>\n",
       "      <td>12011200.0</td>\n",
       "      <td>131.369995</td>\n",
       "    </tr>\n",
       "    <tr>\n",
       "      <th>1255</th>\n",
       "      <td>2022-11-08</td>\n",
       "      <td>132.059998</td>\n",
       "      <td>130.139999</td>\n",
       "      <td>131.240005</td>\n",
       "      <td>131.449997</td>\n",
       "      <td>9884100.0</td>\n",
       "      <td>131.449997</td>\n",
       "    </tr>\n",
       "    <tr>\n",
       "      <th>1256</th>\n",
       "      <td>2022-11-09</td>\n",
       "      <td>131.429993</td>\n",
       "      <td>129.220001</td>\n",
       "      <td>131.320007</td>\n",
       "      <td>129.740005</td>\n",
       "      <td>9494000.0</td>\n",
       "      <td>129.740005</td>\n",
       "    </tr>\n",
       "    <tr>\n",
       "      <th>1257</th>\n",
       "      <td>2022-11-10</td>\n",
       "      <td>135.250000</td>\n",
       "      <td>132.529999</td>\n",
       "      <td>132.630005</td>\n",
       "      <td>135.080002</td>\n",
       "      <td>16351600.0</td>\n",
       "      <td>135.080002</td>\n",
       "    </tr>\n",
       "    <tr>\n",
       "      <th>1258</th>\n",
       "      <td>2022-11-11</td>\n",
       "      <td>136.169998</td>\n",
       "      <td>133.779999</td>\n",
       "      <td>135.190002</td>\n",
       "      <td>135.300003</td>\n",
       "      <td>10701000.0</td>\n",
       "      <td>135.300003</td>\n",
       "    </tr>\n",
       "  </tbody>\n",
       "</table>\n",
       "<p>1259 rows × 7 columns</p>\n",
       "</div>"
      ],
      "text/plain": [
       "            Date        High         Low        Open       Close      Volume  \\\n",
       "0     2017-11-13   98.050003   96.620003   96.690002   97.860001   9303100.0   \n",
       "1     2017-11-14   97.779999   96.849998   97.339996   97.269997  11043800.0   \n",
       "2     2017-11-15   98.739998   95.949997   96.389999   98.190002  15384100.0   \n",
       "3     2017-11-16   99.059998   98.309998   98.529999   98.470001   9808000.0   \n",
       "4     2017-11-17   98.410004   97.570000   97.820000   98.139999   9017900.0   \n",
       "...          ...         ...         ...         ...         ...         ...   \n",
       "1254  2022-11-07  132.289993  130.479996  131.000000  131.369995  12011200.0   \n",
       "1255  2022-11-08  132.059998  130.139999  131.240005  131.449997   9884100.0   \n",
       "1256  2022-11-09  131.429993  129.220001  131.320007  129.740005   9494000.0   \n",
       "1257  2022-11-10  135.250000  132.529999  132.630005  135.080002  16351600.0   \n",
       "1258  2022-11-11  136.169998  133.779999  135.190002  135.300003  10701000.0   \n",
       "\n",
       "       Adj Close  \n",
       "0      86.807426  \n",
       "1      86.284058  \n",
       "2      87.100151  \n",
       "3      87.348534  \n",
       "4      87.055801  \n",
       "...          ...  \n",
       "1254  131.369995  \n",
       "1255  131.449997  \n",
       "1256  129.740005  \n",
       "1257  135.080002  \n",
       "1258  135.300003  \n",
       "\n",
       "[1259 rows x 7 columns]"
      ]
     },
     "execution_count": 42,
     "metadata": {},
     "output_type": "execute_result"
    }
   ],
   "source": [
    "JPM"
   ]
  },
  {
   "cell_type": "code",
   "execution_count": 83,
   "metadata": {},
   "outputs": [
    {
     "ename": "ValueError",
     "evalue": "time data \"2017-11-13\" doesn't match format \"%m %d,%y\", at position 0. You might want to try:\n    - passing `format` if your strings have a consistent format;\n    - passing `format='ISO8601'` if your strings are all ISO8601 but not necessarily in exactly the same format;\n    - passing `format='mixed'`, and the format will be inferred for each element individually. You might want to use `dayfirst` alongside this.",
     "output_type": "error",
     "traceback": [
      "\u001b[1;31m---------------------------------------------------------------------------\u001b[0m",
      "\u001b[1;31mValueError\u001b[0m                                Traceback (most recent call last)",
      "\u001b[1;32mc:\\Users\\arion\\Documents\\DataProcessing\\Midterm\\midterm.ipynb Cell 6\u001b[0m line \u001b[0;36m2\n\u001b[0;32m      <a href='vscode-notebook-cell:/c%3A/Users/arion/Documents/DataProcessing/Midterm/midterm.ipynb#X12sZmlsZQ%3D%3D?line=0'>1</a>\u001b[0m \u001b[39m# Convert to datetime using pd.to_datetime with predefined format\u001b[39;00m\n\u001b[1;32m----> <a href='vscode-notebook-cell:/c%3A/Users/arion/Documents/DataProcessing/Midterm/midterm.ipynb#X12sZmlsZQ%3D%3D?line=1'>2</a>\u001b[0m JPM[\u001b[39m'\u001b[39m\u001b[39mDate\u001b[39m\u001b[39m'\u001b[39m] \u001b[39m=\u001b[39m pd\u001b[39m.\u001b[39;49mto_datetime(JPM[\u001b[39m'\u001b[39;49m\u001b[39mDate\u001b[39;49m\u001b[39m'\u001b[39;49m], \u001b[39mformat\u001b[39;49m\u001b[39m=\u001b[39;49m\u001b[39m\"\u001b[39;49m\u001b[39m%\u001b[39;49m\u001b[39mm \u001b[39;49m\u001b[39m%d\u001b[39;49;00m\u001b[39m,\u001b[39;49m\u001b[39m%\u001b[39;49m\u001b[39my\u001b[39;49m\u001b[39m\"\u001b[39;49m)\n",
      "File \u001b[1;32mc:\\Users\\arion\\Documents\\python\\Lib\\site-packages\\pandas\\core\\tools\\datetimes.py:1112\u001b[0m, in \u001b[0;36mto_datetime\u001b[1;34m(arg, errors, dayfirst, yearfirst, utc, format, exact, unit, infer_datetime_format, origin, cache)\u001b[0m\n\u001b[0;32m   1110\u001b[0m         result \u001b[39m=\u001b[39m arg\u001b[39m.\u001b[39mmap(cache_array)\n\u001b[0;32m   1111\u001b[0m     \u001b[39melse\u001b[39;00m:\n\u001b[1;32m-> 1112\u001b[0m         values \u001b[39m=\u001b[39m convert_listlike(arg\u001b[39m.\u001b[39;49m_values, \u001b[39mformat\u001b[39;49m)\n\u001b[0;32m   1113\u001b[0m         result \u001b[39m=\u001b[39m arg\u001b[39m.\u001b[39m_constructor(values, index\u001b[39m=\u001b[39marg\u001b[39m.\u001b[39mindex, name\u001b[39m=\u001b[39marg\u001b[39m.\u001b[39mname)\n\u001b[0;32m   1114\u001b[0m \u001b[39melif\u001b[39;00m \u001b[39misinstance\u001b[39m(arg, (ABCDataFrame, abc\u001b[39m.\u001b[39mMutableMapping)):\n",
      "File \u001b[1;32mc:\\Users\\arion\\Documents\\python\\Lib\\site-packages\\pandas\\core\\tools\\datetimes.py:488\u001b[0m, in \u001b[0;36m_convert_listlike_datetimes\u001b[1;34m(arg, format, name, utc, unit, errors, dayfirst, yearfirst, exact)\u001b[0m\n\u001b[0;32m    486\u001b[0m \u001b[39m# `format` could be inferred, or user didn't ask for mixed-format parsing.\u001b[39;00m\n\u001b[0;32m    487\u001b[0m \u001b[39mif\u001b[39;00m \u001b[39mformat\u001b[39m \u001b[39mis\u001b[39;00m \u001b[39mnot\u001b[39;00m \u001b[39mNone\u001b[39;00m \u001b[39mand\u001b[39;00m \u001b[39mformat\u001b[39m \u001b[39m!=\u001b[39m \u001b[39m\"\u001b[39m\u001b[39mmixed\u001b[39m\u001b[39m\"\u001b[39m:\n\u001b[1;32m--> 488\u001b[0m     \u001b[39mreturn\u001b[39;00m _array_strptime_with_fallback(arg, name, utc, \u001b[39mformat\u001b[39;49m, exact, errors)\n\u001b[0;32m    490\u001b[0m result, tz_parsed \u001b[39m=\u001b[39m objects_to_datetime64ns(\n\u001b[0;32m    491\u001b[0m     arg,\n\u001b[0;32m    492\u001b[0m     dayfirst\u001b[39m=\u001b[39mdayfirst,\n\u001b[1;32m   (...)\u001b[0m\n\u001b[0;32m    496\u001b[0m     allow_object\u001b[39m=\u001b[39m\u001b[39mTrue\u001b[39;00m,\n\u001b[0;32m    497\u001b[0m )\n\u001b[0;32m    499\u001b[0m \u001b[39mif\u001b[39;00m tz_parsed \u001b[39mis\u001b[39;00m \u001b[39mnot\u001b[39;00m \u001b[39mNone\u001b[39;00m:\n\u001b[0;32m    500\u001b[0m     \u001b[39m# We can take a shortcut since the datetime64 numpy array\u001b[39;00m\n\u001b[0;32m    501\u001b[0m     \u001b[39m# is in UTC\u001b[39;00m\n",
      "File \u001b[1;32mc:\\Users\\arion\\Documents\\python\\Lib\\site-packages\\pandas\\core\\tools\\datetimes.py:519\u001b[0m, in \u001b[0;36m_array_strptime_with_fallback\u001b[1;34m(arg, name, utc, fmt, exact, errors)\u001b[0m\n\u001b[0;32m    508\u001b[0m \u001b[39mdef\u001b[39;00m \u001b[39m_array_strptime_with_fallback\u001b[39m(\n\u001b[0;32m    509\u001b[0m     arg,\n\u001b[0;32m    510\u001b[0m     name,\n\u001b[1;32m   (...)\u001b[0m\n\u001b[0;32m    514\u001b[0m     errors: \u001b[39mstr\u001b[39m,\n\u001b[0;32m    515\u001b[0m ) \u001b[39m-\u001b[39m\u001b[39m>\u001b[39m Index:\n\u001b[0;32m    516\u001b[0m \u001b[39m    \u001b[39m\u001b[39m\"\"\"\u001b[39;00m\n\u001b[0;32m    517\u001b[0m \u001b[39m    Call array_strptime, with fallback behavior depending on 'errors'.\u001b[39;00m\n\u001b[0;32m    518\u001b[0m \u001b[39m    \"\"\"\u001b[39;00m\n\u001b[1;32m--> 519\u001b[0m     result, timezones \u001b[39m=\u001b[39m array_strptime(arg, fmt, exact\u001b[39m=\u001b[39;49mexact, errors\u001b[39m=\u001b[39;49merrors, utc\u001b[39m=\u001b[39;49mutc)\n\u001b[0;32m    520\u001b[0m     \u001b[39mif\u001b[39;00m \u001b[39many\u001b[39m(tz \u001b[39mis\u001b[39;00m \u001b[39mnot\u001b[39;00m \u001b[39mNone\u001b[39;00m \u001b[39mfor\u001b[39;00m tz \u001b[39min\u001b[39;00m timezones):\n\u001b[0;32m    521\u001b[0m         \u001b[39mreturn\u001b[39;00m _return_parsed_timezone_results(result, timezones, utc, name)\n",
      "File \u001b[1;32mstrptime.pyx:534\u001b[0m, in \u001b[0;36mpandas._libs.tslibs.strptime.array_strptime\u001b[1;34m()\u001b[0m\n",
      "File \u001b[1;32mstrptime.pyx:355\u001b[0m, in \u001b[0;36mpandas._libs.tslibs.strptime.array_strptime\u001b[1;34m()\u001b[0m\n",
      "\u001b[1;31mValueError\u001b[0m: time data \"2017-11-13\" doesn't match format \"%m %d,%y\", at position 0. You might want to try:\n    - passing `format` if your strings have a consistent format;\n    - passing `format='ISO8601'` if your strings are all ISO8601 but not necessarily in exactly the same format;\n    - passing `format='mixed'`, and the format will be inferred for each element individually. You might want to use `dayfirst` alongside this."
     ]
    }
   ],
   "source": [
    "# Convert to datetime using pd.to_datetime with predefined format\n",
    "JPM['Date'] = pd.to_datetime(JPM['Date'], format=\"%m %d,%y\")\n"
   ]
  },
  {
   "cell_type": "code",
   "execution_count": 41,
   "metadata": {},
   "outputs": [
    {
     "name": "stdout",
     "output_type": "stream",
     "text": [
      "False\n",
      "False\n",
      "False\n",
      "True\n"
     ]
    }
   ],
   "source": [
    "print(JPM['Close'].equals(JPM['Adj Close']))\n",
    "print(GPC['Close'].equals(GPC['Adj Close']))\n",
    "print(KDP['Close'].equals(KDP['Adj Close']))\n",
    "print(KMX['Close'].equals(KMX['Adj Close']))\n",
    "\n",
    "# Yes, for the KMX company the Close and the Adj Close vlues are the same\n"
   ]
  },
  {
   "cell_type": "code",
   "execution_count": 56,
   "metadata": {},
   "outputs": [
    {
     "name": "stdout",
     "output_type": "stream",
     "text": [
      "Maximum value for JPM is: 170.75645446777344\n",
      "Maximum value for GPC is: 182.1999969482422\n",
      "Maximum value for KDP is: 40.08000183105469\n",
      "Maximum value for KMX is: 154.85000610351562\n"
     ]
    }
   ],
   "source": [
    "# Finding the maximum value of Adj Close for each company\n",
    "maxClm_JPM = JPM['Adj Close'].max()\n",
    "maxClm_GPC = GPC['Adj Close'].max()\n",
    "maxClm_KDP = KDP['Adj Close'].max()\n",
    "maxClm_KMX = KMX['Adj Close'].max()\n",
    "\n",
    "print(\"Maximum value for JPM is:\", maxClm_JPM)\n",
    "print(\"Maximum value for GPC is:\", maxClm_GPC)\n",
    "print(\"Maximum value for KDP is:\", maxClm_KDP)\n",
    "print(\"Maximum value for KMX is:\", maxClm_KMX)"
   ]
  },
  {
   "cell_type": "code",
   "execution_count": 57,
   "metadata": {},
   "outputs": [
    {
     "name": "stdout",
     "output_type": "stream",
     "text": [
      "minimum value for JPM is: 74.4239273071289\n",
      "minimum value for GPC is: 47.406497955322266\n",
      "minimum value for KDP is: 12.68853759765625\n",
      "minimum value for KMX is: 44.27000045776367\n"
     ]
    }
   ],
   "source": [
    "# And again for minimum value\n",
    "minClm_JPM = JPM['Adj Close'].min()\n",
    "minClm_GPC = GPC['Adj Close'].min()\n",
    "minClm_KDP = KDP['Adj Close'].min()\n",
    "minClm_KMX = KMX['Adj Close'].min()\n",
    "\n",
    "print(\"minimum value for JPM is:\", minClm_JPM)\n",
    "print(\"minimum value for GPC is:\", minClm_GPC)\n",
    "print(\"minimum value for KDP is:\", minClm_KDP)\n",
    "print(\"minimum value for KMX is:\", minClm_KMX)"
   ]
  },
  {
   "cell_type": "code",
   "execution_count": 77,
   "metadata": {},
   "outputs": [
    {
     "data": {
      "text/plain": [
       "254755021.07315063"
      ]
     },
     "execution_count": 77,
     "metadata": {},
     "output_type": "execute_result"
    }
   ],
   "source": [
    "# Finding the maximum return of a JPM\n",
    "# I am sorry but I don't know how to calculate logarithmic return\n",
    "JPM['Return'] = (JPM['Open']- JPM[\"Close\"]) * JPM['Volume']\n",
    "JPM_max_return = JPM['Return'].max()\n",
    "JPM_max_return"
   ]
  },
  {
   "cell_type": "code",
   "execution_count": 66,
   "metadata": {},
   "outputs": [
    {
     "data": {
      "text/plain": [
       "606    2020-04-14\n",
       "Name: Date, dtype: object"
      ]
     },
     "execution_count": 66,
     "metadata": {},
     "output_type": "execute_result"
    }
   ],
   "source": [
    "# Getinf a day in which it happend for JPM\n",
    "JPM_max_return_day = JPM.loc[JPM['Return'] == JPM_max_return]\n",
    "JPM_max_return_day['Date']"
   ]
  },
  {
   "cell_type": "code",
   "execution_count": 80,
   "metadata": {},
   "outputs": [
    {
     "ename": "SyntaxError",
     "evalue": "invalid syntax (3839229613.py, line 1)",
     "output_type": "error",
     "traceback": [
      "\u001b[1;36m  Cell \u001b[1;32mIn[80], line 1\u001b[1;36m\u001b[0m\n\u001b[1;33m    JPM.Return.hist(bins=range(0,JPM.return.max(),100))\u001b[0m\n\u001b[1;37m                                     ^\u001b[0m\n\u001b[1;31mSyntaxError\u001b[0m\u001b[1;31m:\u001b[0m invalid syntax\n"
     ]
    }
   ],
   "source": [
    "JPM.Return.hist(bins=range(0,JPM.return.max(),100))"
   ]
  },
  {
   "cell_type": "code",
   "execution_count": null,
   "metadata": {},
   "outputs": [],
   "source": [
    "# Save the DataFrame to a CSV file\n",
    "csv_file_path = 'C:/Users/arion/Documents/DataProcessing/Midterm'\n",
    "dataFrame.to_csv(csv_file_path, index=False)"
   ]
  }
 ],
 "metadata": {
  "kernelspec": {
   "display_name": "Python 3",
   "language": "python",
   "name": "python3"
  },
  "language_info": {
   "codemirror_mode": {
    "name": "ipython",
    "version": 3
   },
   "file_extension": ".py",
   "mimetype": "text/x-python",
   "name": "python",
   "nbconvert_exporter": "python",
   "pygments_lexer": "ipython3",
   "version": "3.12.0"
  }
 },
 "nbformat": 4,
 "nbformat_minor": 2
}
