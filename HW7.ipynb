{
 "cells": [
  {
   "cell_type": "code",
   "execution_count": 2,
   "metadata": {},
   "outputs": [
    {
     "ename": "ValueError",
     "evalue": "too many values to unpack (expected 2)",
     "output_type": "error",
     "traceback": [
      "\u001b[1;31m---------------------------------------------------------------------------\u001b[0m",
      "\u001b[1;31mValueError\u001b[0m                                Traceback (most recent call last)",
      "\u001b[1;32mUntitled-1.ipynb Cell 1\u001b[0m line \u001b[0;36m3\n\u001b[0;32m     <a href='vscode-notebook-cell:Untitled-1.ipynb?jupyter-notebook#W0sdW50aXRsZWQ%3D?line=28'>29</a>\u001b[0m \u001b[39mif\u001b[39;00m \u001b[39mnot\u001b[39;00m line:  \u001b[39m# Coding table is separated by an empty line\u001b[39;00m\n\u001b[0;32m     <a href='vscode-notebook-cell:Untitled-1.ipynb?jupyter-notebook#W0sdW50aXRsZWQ%3D?line=29'>30</a>\u001b[0m     \u001b[39mbreak\u001b[39;00m\n\u001b[1;32m---> <a href='vscode-notebook-cell:Untitled-1.ipynb?jupyter-notebook#W0sdW50aXRsZWQ%3D?line=30'>31</a>\u001b[0m symbol, code \u001b[39m=\u001b[39m line\u001b[39m.\u001b[39msplit()\n\u001b[0;32m     <a href='vscode-notebook-cell:Untitled-1.ipynb?jupyter-notebook#W0sdW50aXRsZWQ%3D?line=31'>32</a>\u001b[0m \u001b[39m# Map 'space' and 'newline' symbols\u001b[39;00m\n\u001b[0;32m     <a href='vscode-notebook-cell:Untitled-1.ipynb?jupyter-notebook#W0sdW50aXRsZWQ%3D?line=32'>33</a>\u001b[0m \u001b[39mif\u001b[39;00m symbol \u001b[39m==\u001b[39m \u001b[39m'\u001b[39m\u001b[39mspace\u001b[39m\u001b[39m'\u001b[39m:\n",
      "\u001b[1;31mValueError\u001b[0m: too many values to unpack (expected 2)"
     ]
    }
   ],
   "source": [
    "def decode(coded_text, coding_table):\n",
    "    \"\"\"Function working with two parameters, coded text and coding table.\n",
    "    \n",
    "    Coding table is define\"\"\"\n",
    "    # Initialize an empty string to store the decoded text\n",
    "    decoded_text = \"\"\n",
    "    # Initializing the index i\n",
    "    i = 0\n",
    "    # Loop until the end of the coded text is reached\n",
    "    while i < len(coded_text):\n",
    "        # Loop over substring lengths j from 1 up to length of coded text\n",
    "        for j in range(1, len(coded_text) - i + 1):\n",
    "            # Substring from the coded text from i and with lenght given by j\n",
    "            current_code = coded_text[i:i + j]\n",
    "            # Is the extracted code in the coding table?\n",
    "            if current_code in coding_table:\n",
    "                # If found, add symbol to the decoded text\n",
    "                decoded_text += coding_table[current_code]\n",
    "                i += j # Move i to the next position after match\n",
    "                break\n",
    "           \n",
    "    return decoded_text\n",
    "\n",
    "\n",
    "# Get the coding table\n",
    "coding_table = {}\n",
    "while True:\n",
    "    line = input()\n",
    "    if not line:  # Coding table is separated by an empty line\n",
    "        break\n",
    "    symbol, code = line.split()\n",
    "    # Map 'space' and 'newline' symbols\n",
    "    if symbol == 'space':\n",
    "        symbol = ' '\n",
    "    elif symbol == 'newline':\n",
    "        symbol = '\\n'\n",
    "    coding_table[code] = symbol\n",
    "\n",
    "# Get the coded text\n",
    "coded_text = input()\n",
    "\n",
    "# Decode the text\n",
    "decoded_text = decode(coded_text, coding_table)\n",
    "\n",
    "# Print the decoded text\n",
    "print(decoded_text)\n"
   ]
  }
 ],
 "metadata": {
  "kernelspec": {
   "display_name": "Python 3",
   "language": "python",
   "name": "python3"
  },
  "language_info": {
   "codemirror_mode": {
    "name": "ipython",
    "version": 3
   },
   "file_extension": ".py",
   "mimetype": "text/x-python",
   "name": "python",
   "nbconvert_exporter": "python",
   "pygments_lexer": "ipython3",
   "version": "3.12.0"
  }
 },
 "nbformat": 4,
 "nbformat_minor": 2
}
